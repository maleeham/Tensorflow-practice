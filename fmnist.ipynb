{
 "cells": [
  {
   "cell_type": "code",
   "execution_count": 114,
   "metadata": {},
   "outputs": [],
   "source": [
    "import numpy as np\n",
    "import matplotlib.pyplot as plt\n",
    "import seaborn as sns\n",
    "import tensorflow as tf\n",
    "from tensorflow.python.framework import ops\n"
   ]
  },
  {
   "cell_type": "code",
   "execution_count": 134,
   "metadata": {},
   "outputs": [
    {
     "name": "stdout",
     "output_type": "stream",
     "text": [
      "Extracting data/fashion/train-images-idx3-ubyte.gz\n",
      "Extracting data/fashion/train-labels-idx1-ubyte.gz\n",
      "Extracting data/fashion/t10k-images-idx3-ubyte.gz\n",
      "Extracting data/fashion/t10k-labels-idx1-ubyte.gz\n"
     ]
    }
   ],
   "source": [
    "\n",
    "\n",
    "fashion_mnist = input_data.read_data_sets('data/fashion', source_url='http://fashion-mnist.s3-website.eu-central-1.amazonaws.com/' , one_hot=True)"
   ]
  },
  {
   "cell_type": "code",
   "execution_count": 135,
   "metadata": {},
   "outputs": [
    {
     "name": "stdout",
     "output_type": "stream",
     "text": [
      "Training set (images) shape: (55000, 784)\n",
      "Training set (labels) shape: (55000, 10)\n",
      "Test set (images) shape: (10000, 784)\n",
      "Test set (labels) shape: (10000, 10)\n"
     ]
    }
   ],
   "source": [
    "# Shapes of training set\n",
    "print(\"Training set (images) shape: {shape}\".format(shape=fashion_mnist.train.images.shape))\n",
    "print(\"Training set (labels) shape: {shape}\".format(shape=fashion_mnist.train.labels.shape))\n",
    "\n",
    "# Shapes of test set\n",
    "print(\"Test set (images) shape: {shape}\".format(shape=fashion_mnist.test.images.shape))\n",
    "print(\"Test set (labels) shape: {shape}\".format(shape=fashion_mnist.test.labels.shape))\n"
   ]
  },
  {
   "cell_type": "code",
   "execution_count": 136,
   "metadata": {},
   "outputs": [],
   "source": [
    "label_dict = {\n",
    " 0: \"T-shirt/top\",\n",
    " 1: \"Trouser\",\n",
    " 2: \"Pullover\",\n",
    " 3: \"Dress\",\n",
    " 4: \"Coat\",\n",
    " 5: \"Sandal\",\n",
    " 6: \"Shirt\",\n",
    " 7: \"Sneaker\",\n",
    " 8: \"Bag\",\n",
    " 9: \"Ankle boot\"\n",
    "}"
   ]
  },
  {
   "cell_type": "code",
   "execution_count": 139,
   "metadata": {},
   "outputs": [
    {
     "name": "stdout",
     "output_type": "stream",
     "text": [
      "y = 9 (Ankle boot)\n"
     ]
    },
    {
     "data": {
      "text/plain": [
       "<matplotlib.image.AxesImage at 0x7fbe48066630>"
      ]
     },
     "execution_count": 139,
     "metadata": {},
     "output_type": "execute_result"
    },
    {
     "data": {
      "image/png": "[encoded data removed]",
      "text/plain": [
       "<Figure size 432x288 with 1 Axes>"
      ]
     },
     "metadata": {
      "needs_background": "light"
     },
     "output_type": "display_data"
    }
   ],
   "source": [
    "# Sample 1\n",
    "\n",
    "# Get 28x28 image\n",
    "sample_1 = fashion_mnist.train.images[5].reshape(28,28)\n",
    "# Get corresponding integer label from one-hot encoded data\n",
    "sample_label_1 = np.where(fashion_mnist.train.labels[5] == 1)[0][0]\n",
    "# Plot sample\n",
    "print(\"y = {label_index} ({label})\".format(label_index=sample_label_1, label=label_dict[sample_label_1]))\n",
    "plt.imshow(sample_1, cmap='Greys')\n"
   ]
  },
  {
   "cell_type": "code",
   "execution_count": 140,
   "metadata": {},
   "outputs": [],
   "source": [
    "def init_wgts(shape):\n",
    "    init_random_dist = tf.truncated_normal(shape, stddev = 0.1)\n",
    "    return tf.Variable(init_random_dist)"
   ]
  },
  {
   "cell_type": "code",
   "execution_count": 141,
   "metadata": {},
   "outputs": [],
   "source": [
    "def init_bias(shape):\n",
    "    init_bias_vals = tf.constant(0.1, shape = shape)\n",
    "    return tf.Variable(init_bias_vals)"
   ]
  },
  {
   "cell_type": "code",
   "execution_count": 142,
   "metadata": {},
   "outputs": [],
   "source": [
    "def conv2d(x, W):\n",
    "    \"\"\"\n",
    "    x -> [batch, H, W, Channels]\n",
    "    W -> [filter H, Filter W, Channel IN, Channel OUT]\n",
    "    Use a stride of 1, keep padding same\n",
    "    \"\"\"\n",
    "    return tf.nn.conv2d(x, W, strides=[1, 1, 1, 1], padding = 'SAME')"
   ]
  },
  {
   "cell_type": "code",
   "execution_count": 143,
   "metadata": {},
   "outputs": [],
   "source": [
    "def max_pool_2by2(x):\n",
    "    \"\"\"\n",
    "    x --> [batch, h, w, channels], a 4D Tensor\n",
    "    \"\"\"\n",
    "    return tf.nn.max_pool(x, ksize=[1,2,2,1],\n",
    "                          strides=[1,2,2,1],\n",
    "                          padding = 'SAME')"
   ]
  },
  {
   "cell_type": "code",
   "execution_count": 144,
   "metadata": {},
   "outputs": [],
   "source": [
    "def convolutional_layer(input_x, shape):\n",
    "    W= init_wgts(shape)\n",
    "    b= init_bias([shape[3]])\n",
    "    return tf.nn.relu(conv2d(input_x, W)+b)"
   ]
  },
  {
   "cell_type": "code",
   "execution_count": 145,
   "metadata": {},
   "outputs": [],
   "source": [
    "def normal_full_layer(input_layer, size):\n",
    "    input_size = int(input_layer.get_shape()[1])\n",
    "    W = init_wgts([input_size,size])\n",
    "    b = init_bias([size])\n",
    "    return tf.matmul(input_layer, W) + b"
   ]
  },
  {
   "cell_type": "code",
   "execution_count": 146,
   "metadata": {},
   "outputs": [],
   "source": [
    "#placeholders\n",
    "x= tf.placeholder(tf.float32, shape=[None, 784])\n",
    "y_true = tf.placeholder(tf.float32, shape = [None, 10])"
   ]
  },
  {
   "cell_type": "code",
   "execution_count": 147,
   "metadata": {},
   "outputs": [],
   "source": [
    "x_image = tf.reshape(x, [-1,28,28,1])"
   ]
  },
  {
   "cell_type": "code",
   "execution_count": 148,
   "metadata": {},
   "outputs": [],
   "source": [
    "#layer 1\n",
    "convo_1 = convolutional_layer(x_image, shape = [5,5,1,32])\n",
    "convo_1_pooling = max_pool_2by2(convo_1)\n",
    "\n",
    "#layer 2\n",
    "convo_2= convolutional_layer(convo_1_pooling, shape= [2,2,32,64])\n",
    "convo_2_pooling = max_pool_2by2(convo_2)\n",
    "\n",
    "#flatten it out\n",
    "convo_2_flat = tf.reshape(convo_2_pooling, [-1, 7*7*64])\n",
    "full_layer_one = tf.nn.relu(normal_full_layer(convo_2_flat, 1064))"
   ]
  },
  {
   "cell_type": "code",
   "execution_count": 149,
   "metadata": {},
   "outputs": [],
   "source": [
    "hold_prob = tf.placeholder(tf.float32)"
   ]
  },
  {
   "cell_type": "code",
   "execution_count": 150,
   "metadata": {},
   "outputs": [],
   "source": [
    "full_one_dropout = tf.nn.dropout(full_layer_one, keep_prob = hold_prob)"
   ]
  },
  {
   "cell_type": "code",
   "execution_count": 151,
   "metadata": {},
   "outputs": [],
   "source": [
    "#Y_pred label\n",
    "y_pred = normal_full_layer(full_one_dropout, 10)"
   ]
  },
  {
   "cell_type": "code",
   "execution_count": 152,
   "metadata": {},
   "outputs": [],
   "source": [
    "#loss\n",
    "cross_entropy = tf.reduce_mean(tf.nn.softmax_cross_entropy_with_logits_v2(labels=y_true, logits= y_pred))"
   ]
  },
  {
   "cell_type": "code",
   "execution_count": 153,
   "metadata": {},
   "outputs": [],
   "source": [
    "#optimizer\n",
    "optimizer= tf.train.AdamOptimizer(learning_rate=0.0001)\n",
    "train = optimizer.minimize(cross_entropy)"
   ]
  },
  {
   "cell_type": "code",
   "execution_count": 154,
   "metadata": {},
   "outputs": [],
   "source": [
    "#init\n",
    "init = tf.global_variables_initializer()"
   ]
  },
  {
   "cell_type": "code",
   "execution_count": 155,
   "metadata": {},
   "outputs": [],
   "source": [
    "steps = 5000"
   ]
  },
  {
   "cell_type": "code",
   "execution_count": 158,
   "metadata": {},
   "outputs": [
    {
     "name": "stdout",
     "output_type": "stream",
     "text": [
      "Currently on step0\n",
      "Test Accuracy is:\n",
      "0.12\n",
      "\n",
      "\n",
      "Currently on step100\n",
      "Test Accuracy is:\n",
      "0.6446\n",
      "\n",
      "\n",
      "Currently on step200\n",
      "Test Accuracy is:\n",
      "0.7402\n",
      "\n",
      "\n",
      "Currently on step300\n",
      "Test Accuracy is:\n",
      "0.7754\n",
      "\n",
      "\n",
      "Currently on step400\n",
      "Test Accuracy is:\n",
      "0.7978\n",
      "\n",
      "\n",
      "Currently on step500\n",
      "Test Accuracy is:\n",
      "0.8168\n",
      "\n",
      "\n",
      "Currently on step600\n",
      "Test Accuracy is:\n",
      "0.8178\n",
      "\n",
      "\n",
      "Currently on step700\n",
      "Test Accuracy is:\n",
      "0.8334\n",
      "\n",
      "\n",
      "Currently on step800\n",
      "Test Accuracy is:\n",
      "0.8393\n",
      "\n",
      "\n",
      "Currently on step900\n",
      "Test Accuracy is:\n",
      "0.8347\n",
      "\n",
      "\n",
      "Currently on step1000\n",
      "Test Accuracy is:\n",
      "0.847\n",
      "\n",
      "\n",
      "Currently on step1100\n",
      "Test Accuracy is:\n",
      "0.8494\n",
      "\n",
      "\n",
      "Currently on step1200\n",
      "Test Accuracy is:\n",
      "0.8502\n",
      "\n",
      "\n",
      "Currently on step1300\n",
      "Test Accuracy is:\n",
      "0.8569\n",
      "\n",
      "\n",
      "Currently on step1400\n",
      "Test Accuracy is:\n",
      "0.8556\n",
      "\n",
      "\n",
      "Currently on step1500\n",
      "Test Accuracy is:\n",
      "0.8563\n",
      "\n",
      "\n",
      "Currently on step1600\n",
      "Test Accuracy is:\n",
      "0.8595\n",
      "\n",
      "\n",
      "Currently on step1700\n",
      "Test Accuracy is:\n",
      "0.8601\n",
      "\n",
      "\n",
      "Currently on step1800\n",
      "Test Accuracy is:\n",
      "0.8655\n",
      "\n",
      "\n",
      "Currently on step1900\n",
      "Test Accuracy is:\n",
      "0.8647\n",
      "\n",
      "\n",
      "Currently on step2000\n",
      "Test Accuracy is:\n",
      "0.8677\n",
      "\n",
      "\n",
      "Currently on step2100\n",
      "Test Accuracy is:\n",
      "0.8702\n",
      "\n",
      "\n",
      "Currently on step2200\n",
      "Test Accuracy is:\n",
      "0.8742\n",
      "\n",
      "\n",
      "Currently on step2300\n",
      "Test Accuracy is:\n",
      "0.8753\n",
      "\n",
      "\n",
      "Currently on step2400\n",
      "Test Accuracy is:\n",
      "0.8766\n",
      "\n",
      "\n",
      "Currently on step2500\n",
      "Test Accuracy is:\n",
      "0.8739\n",
      "\n",
      "\n",
      "Currently on step2600\n",
      "Test Accuracy is:\n",
      "0.8791\n",
      "\n",
      "\n",
      "Currently on step2700\n",
      "Test Accuracy is:\n",
      "0.8784\n",
      "\n",
      "\n",
      "Currently on step2800\n",
      "Test Accuracy is:\n",
      "0.8794\n",
      "\n",
      "\n",
      "Currently on step2900\n",
      "Test Accuracy is:\n",
      "0.8776\n",
      "\n",
      "\n",
      "Currently on step3000\n",
      "Test Accuracy is:\n",
      "0.8769\n",
      "\n",
      "\n",
      "Currently on step3100\n",
      "Test Accuracy is:\n",
      "0.8827\n",
      "\n",
      "\n",
      "Currently on step3200\n",
      "Test Accuracy is:\n",
      "0.8843\n",
      "\n",
      "\n",
      "Currently on step3300\n",
      "Test Accuracy is:\n",
      "0.8848\n",
      "\n",
      "\n",
      "Currently on step3400\n",
      "Test Accuracy is:\n",
      "0.8867\n",
      "\n",
      "\n",
      "Currently on step3500\n",
      "Test Accuracy is:\n",
      "0.8848\n",
      "\n",
      "\n",
      "Currently on step3600\n",
      "Test Accuracy is:\n",
      "0.886\n",
      "\n",
      "\n",
      "Currently on step3700\n",
      "Test Accuracy is:\n",
      "0.8847\n",
      "\n",
      "\n",
      "Currently on step3800\n",
      "Test Accuracy is:\n",
      "0.8878\n",
      "\n",
      "\n",
      "Currently on step3900\n",
      "Test Accuracy is:\n",
      "0.8869\n",
      "\n",
      "\n",
      "Currently on step4000\n",
      "Test Accuracy is:\n",
      "0.8852\n",
      "\n",
      "\n",
      "Currently on step4100\n",
      "Test Accuracy is:\n",
      "0.8873\n",
      "\n",
      "\n",
      "Currently on step4200\n",
      "Test Accuracy is:\n",
      "0.8888\n",
      "\n",
      "\n",
      "Currently on step4300\n",
      "Test Accuracy is:\n",
      "0.8872\n",
      "\n",
      "\n",
      "Currently on step4400\n",
      "Test Accuracy is:\n",
      "0.8946\n",
      "\n",
      "\n",
      "Currently on step4500\n",
      "Test Accuracy is:\n",
      "0.8921\n",
      "\n",
      "\n",
      "Currently on step4600\n",
      "Test Accuracy is:\n",
      "0.8886\n",
      "\n",
      "\n",
      "Currently on step4700\n",
      "Test Accuracy is:\n",
      "0.8949\n",
      "\n",
      "\n",
      "Currently on step4800\n",
      "Test Accuracy is:\n",
      "0.8884\n",
      "\n",
      "\n",
      "Currently on step4900\n",
      "Test Accuracy is:\n",
      "0.8927\n",
      "\n",
      "\n"
     ]
    }
   ],
   "source": [
    "session = tf.Session()\n",
    "\n",
    "with session as sess:\n",
    "    sess.run(init)\n",
    "    \n",
    "    for i in range(steps):\n",
    "        batch_x, batch_y = fashion_mnist.train.next_batch(500)\n",
    "        \n",
    "        #grab from the next batch\n",
    "        sess.run(train, feed_dict={x:batch_x, y_true:batch_y, hold_prob:0.7})\n",
    "       \n",
    "        #print out message every 100\n",
    "        if i%100 == 0:\n",
    "            print(\"Currently on step{}\".format(i))\n",
    "            print(\"Test Accuracy is:\")\n",
    "            #Test the train model\n",
    "            matches = tf.equal(tf.argmax(y_pred,1), tf.argmax(y_true,1))\n",
    "            acc = tf.reduce_mean(tf.cast(matches, tf.float32))\n",
    "            print(sess.run(acc, feed_dict = {x:fashion_mnist.test.images, y_true:fashion_mnist.test.labels, hold_prob:0.5}))\n",
    "            print('\\n')"
   ]
  },
  {
   "cell_type": "code",
   "execution_count": null,
   "metadata": {},
   "outputs": [],
   "source": []
  },
  {
   "cell_type": "code",
   "execution_count": null,
   "metadata": {},
   "outputs": [],
   "source": []
  }
 ],
 "metadata": {
  "kernelspec": {
   "display_name": "Python 3",
   "language": "python",
   "name": "python3"
  },
  "language_info": {
   "codemirror_mode": {
    "name": "ipython",
    "version": 3
   },
   "file_extension": ".py",
   "mimetype": "text/x-python",
   "name": "python",
   "nbconvert_exporter": "python",
   "pygments_lexer": "ipython3",
   "version": "3.6.5"
  }
 },
 "nbformat": 4,
 "nbformat_minor": 2
}
