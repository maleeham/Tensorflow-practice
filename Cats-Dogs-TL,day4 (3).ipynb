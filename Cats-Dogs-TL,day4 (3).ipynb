{
 "cells": [
  {
   "cell_type": "code",
   "execution_count": 2,
   "metadata": {},
   "outputs": [],
   "source": [
    "import tensorflow as tf\n"
   ]
  },
  {
   "cell_type": "code",
   "execution_count": 3,
   "metadata": {},
   "outputs": [
    {
     "data": {
      "text/plain": [
       "'/device:GPU:0'"
      ]
     },
     "execution_count": 3,
     "metadata": {},
     "output_type": "execute_result"
    }
   ],
   "source": [
    "tf.test.gpu_device_name()"
   ]
  },
  {
   "cell_type": "code",
   "execution_count": 4,
   "metadata": {},
   "outputs": [
    {
     "data": {
      "text/plain": [
       "'1.11.0'"
      ]
     },
     "execution_count": 4,
     "metadata": {},
     "output_type": "execute_result"
    }
   ],
   "source": [
    "tf.__version__"
   ]
  },
  {
   "cell_type": "code",
   "execution_count": 5,
   "metadata": {},
   "outputs": [],
   "source": [
    "#cat_dogs = input_data.read_data_sets(input/datasets/onepanel/cats-dogs/1, one_hot= True)"
   ]
  },
  {
   "cell_type": "code",
   "execution_count": 6,
   "metadata": {},
   "outputs": [],
   "source": [
    "import keras"
   ]
  },
  {
   "cell_type": "code",
   "execution_count": 7,
   "metadata": {},
   "outputs": [],
   "source": [
    "from keras.applications import VGG16"
   ]
  },
  {
   "cell_type": "code",
   "execution_count": 8,
   "metadata": {},
   "outputs": [
    {
     "name": "stdout",
     "output_type": "stream",
     "text": [
      "_________________________________________________________________\n",
      "Layer (type)                 Output Shape              Param #   \n",
      "=================================================================\n",
      "input_1 (InputLayer)         (None, 150, 150, 3)       0         \n",
      "_________________________________________________________________\n",
      "block1_conv1 (Conv2D)        (None, 150, 150, 64)      1792      \n",
      "_________________________________________________________________\n",
      "block1_conv2 (Conv2D)        (None, 150, 150, 64)      36928     \n",
      "_________________________________________________________________\n",
      "block1_pool (MaxPooling2D)   (None, 75, 75, 64)        0         \n",
      "_________________________________________________________________\n",
      "block2_conv1 (Conv2D)        (None, 75, 75, 128)       73856     \n",
      "_________________________________________________________________\n",
      "block2_conv2 (Conv2D)        (None, 75, 75, 128)       147584    \n",
      "_________________________________________________________________\n",
      "block2_pool (MaxPooling2D)   (None, 37, 37, 128)       0         \n",
      "_________________________________________________________________\n",
      "block3_conv1 (Conv2D)        (None, 37, 37, 256)       295168    \n",
      "_________________________________________________________________\n",
      "block3_conv2 (Conv2D)        (None, 37, 37, 256)       590080    \n",
      "_________________________________________________________________\n",
      "block3_conv3 (Conv2D)        (None, 37, 37, 256)       590080    \n",
      "_________________________________________________________________\n",
      "block3_pool (MaxPooling2D)   (None, 18, 18, 256)       0         \n",
      "_________________________________________________________________\n",
      "block4_conv1 (Conv2D)        (None, 18, 18, 512)       1180160   \n",
      "_________________________________________________________________\n",
      "block4_conv2 (Conv2D)        (None, 18, 18, 512)       2359808   \n",
      "_________________________________________________________________\n",
      "block4_conv3 (Conv2D)        (None, 18, 18, 512)       2359808   \n",
      "_________________________________________________________________\n",
      "block4_pool (MaxPooling2D)   (None, 9, 9, 512)         0         \n",
      "_________________________________________________________________\n",
      "block5_conv1 (Conv2D)        (None, 9, 9, 512)         2359808   \n",
      "_________________________________________________________________\n",
      "block5_conv2 (Conv2D)        (None, 9, 9, 512)         2359808   \n",
      "_________________________________________________________________\n",
      "block5_conv3 (Conv2D)        (None, 9, 9, 512)         2359808   \n",
      "_________________________________________________________________\n",
      "block5_pool (MaxPooling2D)   (None, 4, 4, 512)         0         \n",
      "=================================================================\n",
      "Total params: 14,714,688\n",
      "Trainable params: 14,714,688\n",
      "Non-trainable params: 0\n",
      "_________________________________________________________________\n"
     ]
    }
   ],
   "source": [
    "conv_base = VGG16(weights = 'imagenet',\n",
    "                 include_top=False,\n",
    "                 input_shape=(150,150,3))\n",
    "conv_base.summary()"
   ]
  },
  {
   "cell_type": "code",
   "execution_count": 9,
   "metadata": {},
   "outputs": [
    {
     "name": "stdout",
     "output_type": "stream",
     "text": [
      "total training cat images: 1000\n",
      "total training dog images: 1000\n",
      "total validation cat images: 500\n",
      "total validation dog images: 500\n",
      "total test cat images: 500\n",
      "total test dog images: 500\n"
     ]
    }
   ],
   "source": [
    "# Create smaller dataset for Dogs vs. Cats\n",
    "import os, shutil\n",
    " \n",
    "original_dataset_dir = 'input/datasets/onepanel/cats-dogs/1/train'\n",
    " \n",
    "base_dir = 'input/datasets/onepanel/cats-dogs/1/'\n",
    "if not os.path.exists(base_dir):\n",
    "    os.mkdir(base_dir)\n",
    " \n",
    "# Create directories\n",
    "train_dir = os.path.join(base_dir,'train')\n",
    "if not os.path.exists(train_dir):\n",
    "    os.mkdir(train_dir)\n",
    "validation_dir = os.path.join(base_dir,'validation')\n",
    "if not os.path.exists(validation_dir):\n",
    "    os.mkdir(validation_dir)\n",
    "test_dir = os.path.join(base_dir,'test')\n",
    "if not os.path.exists(test_dir):\n",
    "    os.mkdir(test_dir)\n",
    " \n",
    "train_cats_dir = os.path.join(train_dir,'cats')\n",
    "if not os.path.exists(train_cats_dir):\n",
    "    os.mkdir(train_cats_dir)\n",
    " \n",
    "train_dogs_dir = os.path.join(train_dir,'dogs')\n",
    "if not os.path.exists(train_dogs_dir):\n",
    "    os.mkdir(train_dogs_dir)\n",
    " \n",
    "validation_cats_dir = os.path.join(validation_dir,'cats')\n",
    "if not os.path.exists(validation_cats_dir):\n",
    "    os.mkdir(validation_cats_dir)\n",
    " \n",
    "validation_dogs_dir = os.path.join(validation_dir, 'dogs')\n",
    "if not os.path.exists(validation_dogs_dir):\n",
    "    os.mkdir(validation_dogs_dir)\n",
    " \n",
    "test_cats_dir = os.path.join(test_dir, 'cats')\n",
    "if not os.path.exists(test_cats_dir):\n",
    "    os.mkdir(test_cats_dir)\n",
    " \n",
    "test_dogs_dir = os.path.join(test_dir, 'dogs')\n",
    "if not os.path.exists(test_dogs_dir):\n",
    "    os.mkdir(test_dogs_dir)\n",
    " \n",
    "# Copy first 1000 cat images to train_cats_dir\n",
    "fnames = ['cat.{}.jpg'.format(i) for i in range(0, 1000)]\n",
    "for fname in fnames:\n",
    "    src = os.path.join(original_dataset_dir, fname)\n",
    "    dst = os.path.join(train_cats_dir, fname)\n",
    "    shutil.copyfile(src, dst)\n",
    " \n",
    "# Copy next 500 cat images to validation_cats_dir\n",
    "fnames = ['cat.{}.jpg'.format(i) for i in range(1001, 1501)]\n",
    "for fname in fnames:\n",
    "    src = os.path.join(original_dataset_dir, fname)\n",
    "    dst = os.path.join(validation_cats_dir, fname)\n",
    "    shutil.copyfile(src, dst)\n",
    " \n",
    "# Copy next 500 cat images to test_cats_dir\n",
    "fnames = ['cat.{}.jpg'.format(i) for i in range(1502,2002)]\n",
    "for fname in fnames:\n",
    "    src = os.path.join(original_dataset_dir, fname)\n",
    "    dst = os.path.join(test_cats_dir, fname)\n",
    "    shutil.copyfile(src, dst)\n",
    " \n",
    "# Copy first 1000 dog images to train_dogs_dir\n",
    "fnames = ['dog.{}.jpg'.format(i) for i in range(0,1000)]\n",
    "for fname in fnames:\n",
    "    src = os.path.join(original_dataset_dir, fname)\n",
    "    dst = os.path.join(train_dogs_dir, fname)\n",
    "    shutil.copyfile(src, dst)\n",
    " \n",
    "# Copy next 500 dog images to validation_dogs_dir\n",
    "fnames = ['dog.{}.jpg'.format(i) for i in range(1001,1501)]\n",
    "for fname in fnames:\n",
    "    src = os.path.join(original_dataset_dir, fname)\n",
    "    dst = os.path.join(validation_dogs_dir, fname)\n",
    "    shutil.copyfile(src, dst)\n",
    " \n",
    "# Copy next 500 dog images to test_dogs_dir\n",
    "fnames = ['dog.{}.jpg'.format(i) for i in range(1502,2002)]\n",
    "for fname in fnames:\n",
    "    src = os.path.join(original_dataset_dir, fname)\n",
    "    dst = os.path.join(test_dogs_dir, fname)\n",
    "    shutil.copyfile(src, dst)\n",
    " \n",
    "# Sanity checks\n",
    "print('total training cat images:', len(os.listdir(train_cats_dir)))\n",
    "print('total training dog images:', len(os.listdir(train_dogs_dir)))\n",
    "print('total validation cat images:', len(os.listdir(validation_cats_dir)))\n",
    "print('total validation dog images:', len(os.listdir(validation_dogs_dir)))\n",
    "print('total test cat images:', len(os.listdir(test_cats_dir)))\n",
    "print('total test dog images:', len(os.listdir(test_dogs_dir)))"
   ]
  },
  {
   "cell_type": "code",
   "execution_count": 10,
   "metadata": {},
   "outputs": [],
   "source": [
    "import os\n",
    "import numpy as np\n",
    "from keras.preprocessing.image import ImageDataGenerator"
   ]
  },
  {
   "cell_type": "code",
   "execution_count": 11,
   "metadata": {},
   "outputs": [],
   "source": [
    "base_dir = 'input/datasets/onepanel/cats-dogs/1/'"
   ]
  },
  {
   "cell_type": "code",
   "execution_count": 12,
   "metadata": {},
   "outputs": [],
   "source": [
    "train_dir = os.path.join(base_dir, 'train')\n",
    "validation_dir = os.path.join(base_dir, 'validation')\n",
    "test_dir = os.path.join(base_dir, 'test')"
   ]
  },
  {
   "cell_type": "code",
   "execution_count": 13,
   "metadata": {},
   "outputs": [],
   "source": [
    "datagen = ImageDataGenerator(rescale = 1./255)\n",
    "batch_size= 20"
   ]
  },
  {
   "cell_type": "code",
   "execution_count": 14,
   "metadata": {},
   "outputs": [
    {
     "name": "stdout",
     "output_type": "stream",
     "text": [
      "Found 2000 images belonging to 2 classes.\n",
      "Found 1000 images belonging to 2 classes.\n",
      "Found 1000 images belonging to 2 classes.\n"
     ]
    }
   ],
   "source": [
    "def extract_features(directory, sample_count):\n",
    "    features = np.zeros(shape=(sample_count, 4, 4, 512))\n",
    "    labels = np.zeros(shape=(sample_count))\n",
    "    generator = datagen.flow_from_directory(\n",
    "        directory,\n",
    "        target_size=(150, 150),\n",
    "        batch_size=batch_size,\n",
    "        class_mode='binary')\n",
    "    i = 0\n",
    "    for inputs_batch, labels_batch in generator:\n",
    "        features_batch = conv_base.predict(inputs_batch)\n",
    "        features[i * batch_size : (i + 1) * batch_size] = features_batch\n",
    "        labels[i * batch_size : (i + 1) * batch_size] = labels_batch\n",
    "        i += 1\n",
    "        if i * batch_size >= sample_count:\n",
    "            # Note that since generators yield data indefinitely in a loop,\n",
    "            # we must `break` after every image has been seen once.\n",
    "            break\n",
    "    return features, labels\n",
    "\n",
    "train_features, train_labels = extract_features(train_dir, 2000)\n",
    "validation_features, validation_labels = extract_features(validation_dir, 1000)\n",
    "test_features, test_labels = extract_features(test_dir, 1000)"
   ]
  },
  {
   "cell_type": "code",
   "execution_count": 15,
   "metadata": {},
   "outputs": [],
   "source": [
    "#Flatten it out first\n",
    "train_features = np.reshape(train_features, (2000, 4*4*512))\n",
    "validation_features = np.reshape(validation_features, (1000, 4*4*512))\n",
    "test_features = np.reshape(test_features, (1000, 4*4*512))"
   ]
  },
  {
   "cell_type": "code",
   "execution_count": 16,
   "metadata": {},
   "outputs": [],
   "source": [
    "#importing layers, models and optimizers\n",
    "from keras import models, layers, optimizers"
   ]
  },
  {
   "cell_type": "code",
   "execution_count": 17,
   "metadata": {},
   "outputs": [
    {
     "name": "stdout",
     "output_type": "stream",
     "text": [
      "Train on 2000 samples, validate on 1000 samples\n",
      "Epoch 1/30\n",
      "2000/2000 [==============================] - 1s 500us/step - loss: 0.5696 - acc: 0.6970 - val_loss: 0.4376 - val_acc: 0.8310\n",
      "Epoch 2/30\n",
      "2000/2000 [==============================] - 1s 279us/step - loss: 0.4324 - acc: 0.7995 - val_loss: 0.3616 - val_acc: 0.8560\n",
      "Epoch 3/30\n",
      "2000/2000 [==============================] - 1s 277us/step - loss: 0.3562 - acc: 0.8440 - val_loss: 0.3295 - val_acc: 0.8680\n",
      "Epoch 4/30\n",
      "2000/2000 [==============================] - 1s 277us/step - loss: 0.3110 - acc: 0.8745 - val_loss: 0.2978 - val_acc: 0.8790\n",
      "Epoch 5/30\n",
      "2000/2000 [==============================] - 1s 277us/step - loss: 0.2877 - acc: 0.8845 - val_loss: 0.3028 - val_acc: 0.8640\n",
      "Epoch 6/30\n",
      "2000/2000 [==============================] - 1s 284us/step - loss: 0.2700 - acc: 0.8875 - val_loss: 0.2731 - val_acc: 0.8910\n",
      "Epoch 7/30\n",
      "2000/2000 [==============================] - 1s 280us/step - loss: 0.2484 - acc: 0.9020 - val_loss: 0.2647 - val_acc: 0.8940\n",
      "Epoch 8/30\n",
      "2000/2000 [==============================] - 1s 285us/step - loss: 0.2313 - acc: 0.9070 - val_loss: 0.2593 - val_acc: 0.8960\n",
      "Epoch 9/30\n",
      "2000/2000 [==============================] - 1s 286us/step - loss: 0.2162 - acc: 0.9210 - val_loss: 0.2525 - val_acc: 0.9010\n",
      "Epoch 10/30\n",
      "2000/2000 [==============================] - 1s 280us/step - loss: 0.2134 - acc: 0.9165 - val_loss: 0.2557 - val_acc: 0.8980\n",
      "Epoch 11/30\n",
      "2000/2000 [==============================] - 1s 277us/step - loss: 0.1972 - acc: 0.9300 - val_loss: 0.2479 - val_acc: 0.9020\n",
      "Epoch 12/30\n",
      "2000/2000 [==============================] - 1s 276us/step - loss: 0.1954 - acc: 0.9355 - val_loss: 0.2492 - val_acc: 0.9040\n",
      "Epoch 13/30\n",
      "2000/2000 [==============================] - 1s 280us/step - loss: 0.1819 - acc: 0.9335 - val_loss: 0.2417 - val_acc: 0.9030\n",
      "Epoch 14/30\n",
      "2000/2000 [==============================] - 1s 278us/step - loss: 0.1733 - acc: 0.9365 - val_loss: 0.2405 - val_acc: 0.9040\n",
      "Epoch 15/30\n",
      "2000/2000 [==============================] - 1s 276us/step - loss: 0.1674 - acc: 0.9395 - val_loss: 0.2425 - val_acc: 0.9050\n",
      "Epoch 16/30\n",
      "2000/2000 [==============================] - 1s 276us/step - loss: 0.1553 - acc: 0.9445 - val_loss: 0.2378 - val_acc: 0.9050\n",
      "Epoch 17/30\n",
      "2000/2000 [==============================] - 1s 280us/step - loss: 0.1543 - acc: 0.9480 - val_loss: 0.2514 - val_acc: 0.8980\n",
      "Epoch 18/30\n",
      "2000/2000 [==============================] - 1s 289us/step - loss: 0.1447 - acc: 0.9465 - val_loss: 0.2351 - val_acc: 0.9060\n",
      "Epoch 19/30\n",
      "2000/2000 [==============================] - 1s 279us/step - loss: 0.1390 - acc: 0.9510 - val_loss: 0.2401 - val_acc: 0.9030\n",
      "Epoch 20/30\n",
      "2000/2000 [==============================] - 1s 277us/step - loss: 0.1332 - acc: 0.9525 - val_loss: 0.2347 - val_acc: 0.9020\n",
      "Epoch 21/30\n",
      "2000/2000 [==============================] - 1s 277us/step - loss: 0.1242 - acc: 0.9585 - val_loss: 0.2462 - val_acc: 0.8980\n",
      "Epoch 22/30\n",
      "2000/2000 [==============================] - 1s 277us/step - loss: 0.1268 - acc: 0.9575 - val_loss: 0.2346 - val_acc: 0.9050\n",
      "Epoch 23/30\n",
      "2000/2000 [==============================] - 1s 277us/step - loss: 0.1190 - acc: 0.9590 - val_loss: 0.2415 - val_acc: 0.9000\n",
      "Epoch 24/30\n",
      "2000/2000 [==============================] - 1s 280us/step - loss: 0.1164 - acc: 0.9655 - val_loss: 0.2393 - val_acc: 0.9020\n",
      "Epoch 25/30\n",
      "2000/2000 [==============================] - 1s 277us/step - loss: 0.1117 - acc: 0.9600 - val_loss: 0.2338 - val_acc: 0.9030\n",
      "Epoch 26/30\n",
      "2000/2000 [==============================] - 1s 281us/step - loss: 0.1088 - acc: 0.9685 - val_loss: 0.2372 - val_acc: 0.9070\n",
      "Epoch 27/30\n",
      "2000/2000 [==============================] - 1s 291us/step - loss: 0.1005 - acc: 0.9670 - val_loss: 0.2416 - val_acc: 0.9000\n",
      "Epoch 28/30\n",
      "2000/2000 [==============================] - 1s 280us/step - loss: 0.0964 - acc: 0.9660 - val_loss: 0.2514 - val_acc: 0.8990\n",
      "Epoch 29/30\n",
      "2000/2000 [==============================] - 1s 276us/step - loss: 0.0952 - acc: 0.9725 - val_loss: 0.2403 - val_acc: 0.9050\n",
      "Epoch 30/30\n",
      "2000/2000 [==============================] - 1s 278us/step - loss: 0.0925 - acc: 0.9675 - val_loss: 0.2390 - val_acc: 0.9050\n"
     ]
    }
   ],
   "source": [
    "# importing layers, models and optimizers\n",
    "from keras import models\n",
    "from keras import layers\n",
    "from keras import optimizers\n",
    "\n",
    "# construct model\n",
    "model = models.Sequential()\n",
    "model.add(layers.Dense(256, activation='relu', input_dim = 4*4*512))\n",
    "model.add(layers.Dropout(0.5))\n",
    "model.add(layers.Dense(1, activation='sigmoid'))\n",
    "\n",
    "# compile model\n",
    "\n",
    "model.compile(optimizer = optimizers.RMSprop(lr=2e-5),\n",
    "             loss = 'binary_crossentropy',\n",
    "             metrics = ['acc'])\n",
    "\n",
    "# Run the model\n",
    "\n",
    "history = model.fit(train_features, train_labels,\n",
    "                   epochs = 30,\n",
    "                   batch_size = 20,\n",
    "                   validation_data = (validation_features, validation_labels))"
   ]
  },
  {
   "cell_type": "code",
   "execution_count": 18,
   "metadata": {},
   "outputs": [],
   "source": [
    "model = models.Sequential()\n",
    "model.add(conv_base)\n",
    "model.add(layers.Flatten())\n",
    "model.add(layers.Dense(265, activation='relu'))\n",
    "model.add(layers.Dense(1, activation='sigmoid'))"
   ]
  },
  {
   "cell_type": "code",
   "execution_count": 19,
   "metadata": {},
   "outputs": [
    {
     "name": "stdout",
     "output_type": "stream",
     "text": [
      "_________________________________________________________________\n",
      "Layer (type)                 Output Shape              Param #   \n",
      "=================================================================\n",
      "vgg16 (Model)                (None, 4, 4, 512)         14714688  \n",
      "_________________________________________________________________\n",
      "flatten_1 (Flatten)          (None, 8192)              0         \n",
      "_________________________________________________________________\n",
      "dense_3 (Dense)              (None, 265)               2171145   \n",
      "_________________________________________________________________\n",
      "dense_4 (Dense)              (None, 1)                 266       \n",
      "=================================================================\n",
      "Total params: 16,886,099\n",
      "Trainable params: 16,886,099\n",
      "Non-trainable params: 0\n",
      "_________________________________________________________________\n"
     ]
    }
   ],
   "source": [
    "model.summary()"
   ]
  },
  {
   "cell_type": "code",
   "execution_count": 20,
   "metadata": {},
   "outputs": [
    {
     "name": "stdout",
     "output_type": "stream",
     "text": [
      "These are the # of trainable weights before freezing the conv base:  30\n"
     ]
    }
   ],
   "source": [
    "#lets freeze the pre-trained conv layer\n",
    "print(\"These are the # of trainable weights before freezing the conv base: \", len(model.trainable_weights))"
   ]
  },
  {
   "cell_type": "code",
   "execution_count": 21,
   "metadata": {},
   "outputs": [],
   "source": [
    "conv_base.trainable = False"
   ]
  },
  {
   "cell_type": "code",
   "execution_count": 28,
   "metadata": {},
   "outputs": [
    {
     "name": "stdout",
     "output_type": "stream",
     "text": [
      "These are the # of trainable weights after freezing the conv base:  4\n"
     ]
    }
   ],
   "source": [
    "print(\"These are the # of trainable weights after freezing the conv base: \", len(model.trainable_weights))"
   ]
  },
  {
   "cell_type": "code",
   "execution_count": 23,
   "metadata": {},
   "outputs": [
    {
     "name": "stdout",
     "output_type": "stream",
     "text": [
      "Found 2000 images belonging to 2 classes.\n",
      "Found 1000 images belonging to 2 classes.\n"
     ]
    }
   ],
   "source": [
    "from keras.preprocessing.image import ImageDataGenerator\n",
    "\n",
    "train_datagen = ImageDataGenerator(\n",
    "      rescale=1./255,\n",
    "      rotation_range=40,\n",
    "      width_shift_range=0.2,\n",
    "      height_shift_range=0.2,\n",
    "      shear_range=0.2,\n",
    "      zoom_range=0.2,\n",
    "      horizontal_flip=True,\n",
    "      fill_mode='nearest')\n",
    "\n",
    "# Note that the validation data should not be augmented!\n",
    "test_datagen = ImageDataGenerator(rescale=1./255)\n",
    "\n",
    "train_generator = train_datagen.flow_from_directory(\n",
    "        # This is the target directory\n",
    "        train_dir,\n",
    "        # All images will be resized to 150x150\n",
    "        target_size=(150, 150),\n",
    "        batch_size=20,\n",
    "        # Since we use binary_crossentropy loss, we need binary labels\n",
    "        class_mode='binary')\n",
    "\n",
    "validation_generator = test_datagen.flow_from_directory(\n",
    "        validation_dir,\n",
    "        target_size=(150, 150),\n",
    "        batch_size=20,\n",
    "        class_mode='binary')\n",
    "\n",
    "model.compile(loss='binary_crossentropy',\n",
    "              optimizer=optimizers.RMSprop(lr=2e-5),\n",
    "              metrics=['acc'])"
   ]
  },
  {
   "cell_type": "code",
   "execution_count": 24,
   "metadata": {},
   "outputs": [
    {
     "name": "stdout",
     "output_type": "stream",
     "text": [
      "Epoch 1/30\n",
      " - 27s - loss: 0.6053 - acc: 0.6705 - val_loss: 0.4527 - val_acc: 0.8190\n",
      "Epoch 2/30\n",
      " - 25s - loss: 0.4999 - acc: 0.7625 - val_loss: 0.3844 - val_acc: 0.8390\n",
      "Epoch 3/30\n",
      " - 25s - loss: 0.4472 - acc: 0.8035 - val_loss: 0.3408 - val_acc: 0.8560\n",
      "Epoch 4/30\n",
      " - 24s - loss: 0.3910 - acc: 0.8360 - val_loss: 0.3382 - val_acc: 0.8540\n",
      "Epoch 5/30\n",
      " - 25s - loss: 0.3876 - acc: 0.8255 - val_loss: 0.3029 - val_acc: 0.8740\n",
      "Epoch 6/30\n",
      " - 25s - loss: 0.3600 - acc: 0.8475 - val_loss: 0.2830 - val_acc: 0.8770\n",
      "Epoch 7/30\n",
      " - 25s - loss: 0.3655 - acc: 0.8370 - val_loss: 0.2689 - val_acc: 0.8910\n",
      "Epoch 8/30\n",
      " - 25s - loss: 0.3482 - acc: 0.8495 - val_loss: 0.2656 - val_acc: 0.8890\n",
      "Epoch 9/30\n",
      " - 25s - loss: 0.3482 - acc: 0.8540 - val_loss: 0.2612 - val_acc: 0.8990\n",
      "Epoch 10/30\n",
      " - 25s - loss: 0.3369 - acc: 0.8480 - val_loss: 0.2551 - val_acc: 0.9000\n",
      "Epoch 11/30\n",
      " - 25s - loss: 0.3346 - acc: 0.8530 - val_loss: 0.2524 - val_acc: 0.9050\n",
      "Epoch 12/30\n",
      " - 25s - loss: 0.3245 - acc: 0.8535 - val_loss: 0.2490 - val_acc: 0.9000\n",
      "Epoch 13/30\n",
      " - 25s - loss: 0.3313 - acc: 0.8500 - val_loss: 0.2475 - val_acc: 0.9040\n",
      "Epoch 14/30\n",
      " - 25s - loss: 0.3197 - acc: 0.8585 - val_loss: 0.2488 - val_acc: 0.9030\n",
      "Epoch 15/30\n",
      " - 25s - loss: 0.3107 - acc: 0.8660 - val_loss: 0.2464 - val_acc: 0.9050\n",
      "Epoch 16/30\n",
      " - 25s - loss: 0.3102 - acc: 0.8675 - val_loss: 0.2441 - val_acc: 0.9030\n",
      "Epoch 17/30\n",
      " - 25s - loss: 0.3142 - acc: 0.8655 - val_loss: 0.2428 - val_acc: 0.9040\n",
      "Epoch 18/30\n",
      " - 25s - loss: 0.3088 - acc: 0.8745 - val_loss: 0.2434 - val_acc: 0.8980\n",
      "Epoch 19/30\n",
      " - 25s - loss: 0.3014 - acc: 0.8700 - val_loss: 0.2412 - val_acc: 0.9000\n",
      "Epoch 20/30\n",
      " - 25s - loss: 0.3007 - acc: 0.8690 - val_loss: 0.2409 - val_acc: 0.8990\n",
      "Epoch 21/30\n",
      " - 25s - loss: 0.2992 - acc: 0.8700 - val_loss: 0.2399 - val_acc: 0.9010\n",
      "Epoch 22/30\n",
      " - 25s - loss: 0.3062 - acc: 0.8645 - val_loss: 0.2529 - val_acc: 0.8980\n",
      "Epoch 23/30\n",
      " - 25s - loss: 0.2954 - acc: 0.8780 - val_loss: 0.2440 - val_acc: 0.9010\n",
      "Epoch 24/30\n",
      " - 25s - loss: 0.2955 - acc: 0.8715 - val_loss: 0.2383 - val_acc: 0.9100\n",
      "Epoch 25/30\n",
      " - 25s - loss: 0.2894 - acc: 0.8770 - val_loss: 0.2388 - val_acc: 0.9010\n",
      "Epoch 26/30\n",
      " - 25s - loss: 0.2913 - acc: 0.8735 - val_loss: 0.2386 - val_acc: 0.9030\n",
      "Epoch 27/30\n",
      " - 25s - loss: 0.2867 - acc: 0.8675 - val_loss: 0.2375 - val_acc: 0.9090\n",
      "Epoch 28/30\n",
      " - 25s - loss: 0.2835 - acc: 0.8805 - val_loss: 0.2477 - val_acc: 0.8980\n",
      "Epoch 29/30\n",
      " - 25s - loss: 0.2734 - acc: 0.8810 - val_loss: 0.2411 - val_acc: 0.9070\n",
      "Epoch 30/30\n",
      " - 25s - loss: 0.2815 - acc: 0.8750 - val_loss: 0.2417 - val_acc: 0.9100\n"
     ]
    }
   ],
   "source": [
    "history= model.fit_generator(\n",
    "            train_generator,\n",
    "            steps_per_epoch = 100,\n",
    "            epochs = 30,\n",
    "            validation_data = validation_generator,\n",
    "            validation_steps = 50, \n",
    "            verbose=2)"
   ]
  },
  {
   "cell_type": "code",
   "execution_count": 25,
   "metadata": {},
   "outputs": [],
   "source": [
    "model.save('cats_dogs_mymodel.h5')"
   ]
  },
  {
   "cell_type": "code",
   "execution_count": 27,
   "metadata": {},
   "outputs": [
    {
     "data": {
      "image/png": "[encoded data removed]",
      "text/plain": [
       "<Figure size 432x288 with 1 Axes>"
      ]
     },
     "metadata": {
      "needs_background": "light"
     },
     "output_type": "display_data"
    },
    {
     "data": {
      "image/png": "[encoded data removed]",
      "text/plain": [
       "<Figure size 432x288 with 1 Axes>"
      ]
     },
     "metadata": {
      "needs_background": "light"
     },
     "output_type": "display_data"
    }
   ],
   "source": [
    "import matplotlib.pyplot as plt\n",
    "\n",
    "\n",
    "acc = history.history['acc']\n",
    "val_acc = history.history['val_acc']\n",
    "loss = history.history['loss']\n",
    "val_loss = history.history['val_loss']\n",
    "\n",
    "epochs = range(len(acc))\n",
    "\n",
    "plt.plot(epochs, acc, 'bo', label='Training acc')\n",
    "plt.plot(epochs, val_acc, 'b', label='Validation acc')\n",
    "plt.title('Training and validation accuracy')\n",
    "plt.legend()\n",
    "\n",
    "plt.figure()\n",
    "\n",
    "plt.plot(epochs, loss, 'bo', label='Training loss')\n",
    "plt.plot(epochs, val_loss, 'b', label='Validation loss')\n",
    "plt.title('Training and validation loss')\n",
    "plt.legend()\n",
    "\n",
    "plt.show()"
   ]
  },
  {
   "cell_type": "code",
   "execution_count": 29,
   "metadata": {},
   "outputs": [],
   "source": [
    "#to choose what to freeze\n",
    "conv_base.trainable = True\n",
    "set_trainable = False\n",
    "for layer in conv_base.layers:\n",
    "    if layer.name == 'block5_conv1':\n",
    "        set_trainable = True\n",
    "    if set_trainable:\n",
    "        layer.trainable = True\n",
    "    else:\n",
    "        layer.trainable = False"
   ]
  },
  {
   "cell_type": "code",
   "execution_count": 31,
   "metadata": {},
   "outputs": [
    {
     "name": "stdout",
     "output_type": "stream",
     "text": [
      "Epoch 1/100\n",
      "100/100 [==============================] - 28s 278ms/step - loss: 0.3001 - acc: 0.8680 - val_loss: 0.2642 - val_acc: 0.8960\n",
      "Epoch 2/100\n",
      "100/100 [==============================] - 25s 252ms/step - loss: 0.2534 - acc: 0.8875 - val_loss: 0.2129 - val_acc: 0.9090\n",
      "Epoch 3/100\n",
      "100/100 [==============================] - 25s 251ms/step - loss: 0.2457 - acc: 0.8935 - val_loss: 0.2024 - val_acc: 0.9200\n",
      "Epoch 4/100\n",
      "100/100 [==============================] - 25s 251ms/step - loss: 0.2184 - acc: 0.9095 - val_loss: 0.2333 - val_acc: 0.9030\n",
      "Epoch 5/100\n",
      "100/100 [==============================] - 25s 253ms/step - loss: 0.2083 - acc: 0.9090 - val_loss: 0.1943 - val_acc: 0.9240\n",
      "Epoch 6/100\n",
      "100/100 [==============================] - 25s 250ms/step - loss: 0.1912 - acc: 0.9250 - val_loss: 0.1938 - val_acc: 0.9270\n",
      "Epoch 7/100\n",
      "100/100 [==============================] - 25s 251ms/step - loss: 0.1828 - acc: 0.9245 - val_loss: 0.1767 - val_acc: 0.9280\n",
      "Epoch 8/100\n",
      "100/100 [==============================] - 25s 251ms/step - loss: 0.1792 - acc: 0.9285 - val_loss: 0.1954 - val_acc: 0.9290\n",
      "Epoch 9/100\n",
      "100/100 [==============================] - 25s 253ms/step - loss: 0.1615 - acc: 0.9350 - val_loss: 0.2119 - val_acc: 0.9200\n",
      "Epoch 10/100\n",
      "100/100 [==============================] - 25s 253ms/step - loss: 0.1741 - acc: 0.9265 - val_loss: 0.2089 - val_acc: 0.9260\n",
      "Epoch 11/100\n",
      "100/100 [==============================] - 25s 252ms/step - loss: 0.1558 - acc: 0.9390 - val_loss: 0.1800 - val_acc: 0.9360\n",
      "Epoch 12/100\n",
      "100/100 [==============================] - 25s 252ms/step - loss: 0.1371 - acc: 0.9505 - val_loss: 0.2943 - val_acc: 0.9040\n",
      "Epoch 13/100\n",
      "100/100 [==============================] - 25s 251ms/step - loss: 0.1225 - acc: 0.9495 - val_loss: 0.1749 - val_acc: 0.9410\n",
      "Epoch 14/100\n",
      "100/100 [==============================] - 25s 253ms/step - loss: 0.1346 - acc: 0.9455 - val_loss: 0.2023 - val_acc: 0.9260\n",
      "Epoch 15/100\n",
      "100/100 [==============================] - 25s 251ms/step - loss: 0.1123 - acc: 0.9590 - val_loss: 0.1782 - val_acc: 0.9320\n",
      "Epoch 16/100\n",
      "100/100 [==============================] - 25s 254ms/step - loss: 0.1121 - acc: 0.9570 - val_loss: 0.1805 - val_acc: 0.9360\n",
      "Epoch 17/100\n",
      "100/100 [==============================] - 25s 251ms/step - loss: 0.1165 - acc: 0.9510 - val_loss: 0.1892 - val_acc: 0.9230\n",
      "Epoch 18/100\n",
      "100/100 [==============================] - 25s 253ms/step - loss: 0.0892 - acc: 0.9675 - val_loss: 0.2004 - val_acc: 0.9360\n",
      "Epoch 19/100\n",
      "100/100 [==============================] - 26s 255ms/step - loss: 0.1069 - acc: 0.9590 - val_loss: 0.1946 - val_acc: 0.9350\n",
      "Epoch 20/100\n",
      "100/100 [==============================] - 25s 253ms/step - loss: 0.1035 - acc: 0.9590 - val_loss: 0.2147 - val_acc: 0.9180\n",
      "Epoch 21/100\n",
      "100/100 [==============================] - 25s 252ms/step - loss: 0.0971 - acc: 0.9570 - val_loss: 0.2083 - val_acc: 0.9300\n",
      "Epoch 22/100\n",
      "100/100 [==============================] - 26s 255ms/step - loss: 0.1006 - acc: 0.9610 - val_loss: 0.2780 - val_acc: 0.9210\n",
      "Epoch 23/100\n",
      "100/100 [==============================] - 25s 252ms/step - loss: 0.0812 - acc: 0.9720 - val_loss: 0.2121 - val_acc: 0.9340\n",
      "Epoch 24/100\n",
      "100/100 [==============================] - 25s 254ms/step - loss: 0.0853 - acc: 0.9655 - val_loss: 0.1726 - val_acc: 0.9320\n",
      "Epoch 25/100\n",
      "100/100 [==============================] - 25s 255ms/step - loss: 0.0760 - acc: 0.9755 - val_loss: 0.1944 - val_acc: 0.9370\n",
      "Epoch 26/100\n",
      "100/100 [==============================] - 25s 254ms/step - loss: 0.0744 - acc: 0.9715 - val_loss: 0.2200 - val_acc: 0.9390\n",
      "Epoch 27/100\n",
      "100/100 [==============================] - 25s 254ms/step - loss: 0.0762 - acc: 0.9690 - val_loss: 0.2124 - val_acc: 0.9350\n",
      "Epoch 28/100\n",
      "100/100 [==============================] - 25s 251ms/step - loss: 0.0798 - acc: 0.9695 - val_loss: 0.1951 - val_acc: 0.9360\n",
      "Epoch 29/100\n",
      "100/100 [==============================] - 25s 252ms/step - loss: 0.0658 - acc: 0.9720 - val_loss: 0.2018 - val_acc: 0.9280\n",
      "Epoch 30/100\n",
      "100/100 [==============================] - 25s 252ms/step - loss: 0.0623 - acc: 0.9755 - val_loss: 0.3040 - val_acc: 0.9100\n",
      "Epoch 31/100\n",
      "100/100 [==============================] - 25s 254ms/step - loss: 0.0717 - acc: 0.9740 - val_loss: 0.2392 - val_acc: 0.9330\n",
      "Epoch 32/100\n",
      "100/100 [==============================] - 25s 253ms/step - loss: 0.0646 - acc: 0.9790 - val_loss: 0.2054 - val_acc: 0.9400\n",
      "Epoch 33/100\n",
      "100/100 [==============================] - 25s 254ms/step - loss: 0.0553 - acc: 0.9760 - val_loss: 0.1891 - val_acc: 0.9370\n",
      "Epoch 34/100\n",
      "100/100 [==============================] - 25s 252ms/step - loss: 0.0654 - acc: 0.9740 - val_loss: 0.1976 - val_acc: 0.9460\n",
      "Epoch 35/100\n",
      "100/100 [==============================] - 25s 253ms/step - loss: 0.0600 - acc: 0.9760 - val_loss: 0.2172 - val_acc: 0.9340\n",
      "Epoch 36/100\n",
      "100/100 [==============================] - 25s 254ms/step - loss: 0.0644 - acc: 0.9745 - val_loss: 0.1659 - val_acc: 0.9450\n",
      "Epoch 37/100\n",
      "100/100 [==============================] - 25s 253ms/step - loss: 0.0554 - acc: 0.9775 - val_loss: 0.2254 - val_acc: 0.9400\n",
      "Epoch 38/100\n",
      "100/100 [==============================] - 25s 252ms/step - loss: 0.0541 - acc: 0.9800 - val_loss: 0.1921 - val_acc: 0.9400\n",
      "Epoch 39/100\n",
      "100/100 [==============================] - 25s 253ms/step - loss: 0.0581 - acc: 0.9815 - val_loss: 0.3760 - val_acc: 0.9060\n",
      "Epoch 40/100\n",
      "100/100 [==============================] - 25s 253ms/step - loss: 0.0530 - acc: 0.9785 - val_loss: 0.1716 - val_acc: 0.9470\n",
      "Epoch 41/100\n",
      "100/100 [==============================] - 25s 253ms/step - loss: 0.0429 - acc: 0.9855 - val_loss: 0.2723 - val_acc: 0.9380\n",
      "Epoch 42/100\n",
      "100/100 [==============================] - 25s 253ms/step - loss: 0.0436 - acc: 0.9855 - val_loss: 0.1925 - val_acc: 0.9340\n",
      "Epoch 43/100\n",
      "100/100 [==============================] - 26s 255ms/step - loss: 0.0466 - acc: 0.9845 - val_loss: 0.2045 - val_acc: 0.9410\n",
      "Epoch 44/100\n",
      "100/100 [==============================] - 25s 254ms/step - loss: 0.0416 - acc: 0.9835 - val_loss: 0.2306 - val_acc: 0.9330\n",
      "Epoch 45/100\n",
      "100/100 [==============================] - 26s 255ms/step - loss: 0.0468 - acc: 0.9835 - val_loss: 0.2053 - val_acc: 0.9440\n",
      "Epoch 46/100\n",
      "100/100 [==============================] - 26s 255ms/step - loss: 0.0451 - acc: 0.9835 - val_loss: 0.4616 - val_acc: 0.8970\n",
      "Epoch 47/100\n",
      "100/100 [==============================] - 26s 257ms/step - loss: 0.0508 - acc: 0.9845 - val_loss: 0.2512 - val_acc: 0.9240\n",
      "Epoch 48/100\n",
      "100/100 [==============================] - 25s 254ms/step - loss: 0.0353 - acc: 0.9880 - val_loss: 0.2217 - val_acc: 0.9350\n",
      "Epoch 49/100\n",
      "100/100 [==============================] - 25s 255ms/step - loss: 0.0387 - acc: 0.9865 - val_loss: 0.2256 - val_acc: 0.9260\n",
      "Epoch 50/100\n",
      "100/100 [==============================] - 25s 255ms/step - loss: 0.0300 - acc: 0.9875 - val_loss: 0.2583 - val_acc: 0.9270\n",
      "Epoch 51/100\n",
      "100/100 [==============================] - 25s 254ms/step - loss: 0.0509 - acc: 0.9795 - val_loss: 0.2359 - val_acc: 0.9320\n",
      "Epoch 52/100\n",
      "100/100 [==============================] - 26s 255ms/step - loss: 0.0316 - acc: 0.9895 - val_loss: 0.1917 - val_acc: 0.9440\n",
      "Epoch 53/100\n",
      "100/100 [==============================] - 25s 253ms/step - loss: 0.0266 - acc: 0.9935 - val_loss: 0.2539 - val_acc: 0.9330\n",
      "Epoch 54/100\n",
      "100/100 [==============================] - 25s 255ms/step - loss: 0.0420 - acc: 0.9885 - val_loss: 0.2277 - val_acc: 0.9400\n",
      "Epoch 55/100\n",
      "100/100 [==============================] - 25s 255ms/step - loss: 0.0435 - acc: 0.9835 - val_loss: 0.2270 - val_acc: 0.9390\n",
      "Epoch 56/100\n",
      "100/100 [==============================] - 25s 255ms/step - loss: 0.0371 - acc: 0.9870 - val_loss: 0.2534 - val_acc: 0.9250\n",
      "Epoch 57/100\n",
      "100/100 [==============================] - 25s 254ms/step - loss: 0.0384 - acc: 0.9850 - val_loss: 0.2473 - val_acc: 0.9310\n",
      "Epoch 58/100\n",
      "100/100 [==============================] - 25s 252ms/step - loss: 0.0338 - acc: 0.9880 - val_loss: 0.2038 - val_acc: 0.9450\n",
      "Epoch 59/100\n",
      "100/100 [==============================] - 26s 255ms/step - loss: 0.0318 - acc: 0.9870 - val_loss: 0.3009 - val_acc: 0.9250\n",
      "Epoch 60/100\n",
      "100/100 [==============================] - 26s 256ms/step - loss: 0.0301 - acc: 0.9895 - val_loss: 0.2301 - val_acc: 0.9410\n"
     ]
    },
    {
     "name": "stdout",
     "output_type": "stream",
     "text": [
      "Epoch 61/100\n",
      "100/100 [==============================] - 25s 253ms/step - loss: 0.0370 - acc: 0.9860 - val_loss: 0.2374 - val_acc: 0.9360\n",
      "Epoch 62/100\n",
      "100/100 [==============================] - 26s 256ms/step - loss: 0.0324 - acc: 0.9895 - val_loss: 0.1844 - val_acc: 0.9540\n",
      "Epoch 63/100\n",
      "100/100 [==============================] - 25s 253ms/step - loss: 0.0243 - acc: 0.9910 - val_loss: 0.2722 - val_acc: 0.9360\n",
      "Epoch 64/100\n",
      "100/100 [==============================] - 25s 253ms/step - loss: 0.0206 - acc: 0.9935 - val_loss: 0.1613 - val_acc: 0.9430\n",
      "Epoch 65/100\n",
      "100/100 [==============================] - 25s 253ms/step - loss: 0.0387 - acc: 0.9890 - val_loss: 0.2445 - val_acc: 0.9490\n",
      "Epoch 66/100\n",
      "100/100 [==============================] - 25s 254ms/step - loss: 0.0222 - acc: 0.9930 - val_loss: 0.2439 - val_acc: 0.9380\n",
      "Epoch 67/100\n",
      "100/100 [==============================] - 25s 253ms/step - loss: 0.0322 - acc: 0.9910 - val_loss: 0.3413 - val_acc: 0.9250\n",
      "Epoch 68/100\n",
      "100/100 [==============================] - 25s 253ms/step - loss: 0.0295 - acc: 0.9870 - val_loss: 0.2764 - val_acc: 0.9300\n",
      "Epoch 69/100\n",
      "100/100 [==============================] - 25s 254ms/step - loss: 0.0312 - acc: 0.9880 - val_loss: 0.2216 - val_acc: 0.9420\n",
      "Epoch 70/100\n",
      "100/100 [==============================] - 25s 251ms/step - loss: 0.0289 - acc: 0.9925 - val_loss: 0.2280 - val_acc: 0.9400\n",
      "Epoch 71/100\n",
      "100/100 [==============================] - 25s 254ms/step - loss: 0.0246 - acc: 0.9935 - val_loss: 0.2374 - val_acc: 0.9380\n",
      "Epoch 72/100\n",
      "100/100 [==============================] - 25s 252ms/step - loss: 0.0252 - acc: 0.9890 - val_loss: 0.2661 - val_acc: 0.9330\n",
      "Epoch 73/100\n",
      "100/100 [==============================] - 25s 253ms/step - loss: 0.0173 - acc: 0.9925 - val_loss: 0.2335 - val_acc: 0.9380\n",
      "Epoch 74/100\n",
      "100/100 [==============================] - 25s 254ms/step - loss: 0.0217 - acc: 0.9910 - val_loss: 0.2618 - val_acc: 0.9380\n",
      "Epoch 75/100\n",
      "100/100 [==============================] - 25s 253ms/step - loss: 0.0328 - acc: 0.9905 - val_loss: 0.2976 - val_acc: 0.9370\n",
      "Epoch 76/100\n",
      "100/100 [==============================] - 26s 255ms/step - loss: 0.0245 - acc: 0.9910 - val_loss: 0.2147 - val_acc: 0.9490\n",
      "Epoch 77/100\n",
      "100/100 [==============================] - 25s 254ms/step - loss: 0.0296 - acc: 0.9890 - val_loss: 0.2097 - val_acc: 0.9400\n",
      "Epoch 78/100\n",
      "100/100 [==============================] - 25s 252ms/step - loss: 0.0221 - acc: 0.9925 - val_loss: 0.1985 - val_acc: 0.9420\n",
      "Epoch 79/100\n",
      "100/100 [==============================] - 25s 253ms/step - loss: 0.0194 - acc: 0.9925 - val_loss: 0.2842 - val_acc: 0.9360\n",
      "Epoch 80/100\n",
      "100/100 [==============================] - 25s 254ms/step - loss: 0.0183 - acc: 0.9920 - val_loss: 0.2007 - val_acc: 0.9460\n",
      "Epoch 81/100\n",
      "100/100 [==============================] - 25s 253ms/step - loss: 0.0237 - acc: 0.9905 - val_loss: 0.2755 - val_acc: 0.9370\n",
      "Epoch 82/100\n",
      "100/100 [==============================] - 25s 254ms/step - loss: 0.0319 - acc: 0.9900 - val_loss: 0.2687 - val_acc: 0.9410\n",
      "Epoch 83/100\n",
      "100/100 [==============================] - 25s 254ms/step - loss: 0.0228 - acc: 0.9925 - val_loss: 0.2409 - val_acc: 0.9420\n",
      "Epoch 84/100\n",
      "100/100 [==============================] - 25s 252ms/step - loss: 0.0221 - acc: 0.9920 - val_loss: 0.3114 - val_acc: 0.9330\n",
      "Epoch 85/100\n",
      "100/100 [==============================] - 25s 252ms/step - loss: 0.0148 - acc: 0.9960 - val_loss: 0.3041 - val_acc: 0.9320\n",
      "Epoch 86/100\n",
      "100/100 [==============================] - 26s 255ms/step - loss: 0.0216 - acc: 0.9935 - val_loss: 0.2824 - val_acc: 0.9300\n",
      "Epoch 87/100\n",
      "100/100 [==============================] - 25s 253ms/step - loss: 0.0199 - acc: 0.9925 - val_loss: 0.2651 - val_acc: 0.9320\n",
      "Epoch 88/100\n",
      "100/100 [==============================] - 25s 254ms/step - loss: 0.0216 - acc: 0.9910 - val_loss: 0.5410 - val_acc: 0.9100\n",
      "Epoch 89/100\n",
      "100/100 [==============================] - 25s 253ms/step - loss: 0.0202 - acc: 0.9935 - val_loss: 0.2984 - val_acc: 0.9340\n",
      "Epoch 90/100\n",
      "100/100 [==============================] - 25s 252ms/step - loss: 0.0204 - acc: 0.9930 - val_loss: 0.2139 - val_acc: 0.9370\n",
      "Epoch 91/100\n",
      "100/100 [==============================] - 25s 254ms/step - loss: 0.0145 - acc: 0.9960 - val_loss: 0.2661 - val_acc: 0.9420\n",
      "Epoch 92/100\n",
      "100/100 [==============================] - 25s 253ms/step - loss: 0.0240 - acc: 0.9905 - val_loss: 0.2549 - val_acc: 0.9490\n",
      "Epoch 93/100\n",
      "100/100 [==============================] - 25s 253ms/step - loss: 0.0181 - acc: 0.9950 - val_loss: 0.3334 - val_acc: 0.9300\n",
      "Epoch 94/100\n",
      "100/100 [==============================] - 25s 253ms/step - loss: 0.0226 - acc: 0.9915 - val_loss: 0.2058 - val_acc: 0.9490\n",
      "Epoch 95/100\n",
      "100/100 [==============================] - 25s 254ms/step - loss: 0.0123 - acc: 0.9965 - val_loss: 0.4207 - val_acc: 0.9240\n",
      "Epoch 96/100\n",
      "100/100 [==============================] - 25s 252ms/step - loss: 0.0207 - acc: 0.9930 - val_loss: 0.2413 - val_acc: 0.9420\n",
      "Epoch 97/100\n",
      "100/100 [==============================] - 25s 252ms/step - loss: 0.0185 - acc: 0.9940 - val_loss: 0.3207 - val_acc: 0.9320\n",
      "Epoch 98/100\n",
      "100/100 [==============================] - 25s 254ms/step - loss: 0.0243 - acc: 0.9920 - val_loss: 0.3843 - val_acc: 0.9220\n",
      "Epoch 99/100\n",
      "100/100 [==============================] - 25s 253ms/step - loss: 0.0176 - acc: 0.9930 - val_loss: 0.2419 - val_acc: 0.9420\n",
      "Epoch 100/100\n",
      "100/100 [==============================] - 25s 252ms/step - loss: 0.0147 - acc: 0.9955 - val_loss: 0.2903 - val_acc: 0.9420\n"
     ]
    }
   ],
   "source": [
    "model.compile(loss='binary_crossentropy',\n",
    "         optimizer = optimizers.RMSprop(lr=1e-5),\n",
    "                     metrics= ['acc'])\n",
    "history = model.fit_generator( train_generator, steps_per_epoch=100, epochs=100, validation_data= validation_generator, validation_steps=50 )"
   ]
  },
  {
   "cell_type": "code",
   "execution_count": 32,
   "metadata": {},
   "outputs": [],
   "source": [
    "model.save('cats_dogs_tunedmodel.h5')"
   ]
  },
  {
   "cell_type": "code",
   "execution_count": 33,
   "metadata": {},
   "outputs": [
    {
     "data": {
      "image/png": "[encoded data removed]",
      "text/plain": [
       "<Figure size 432x288 with 1 Axes>"
      ]
     },
     "metadata": {
      "needs_background": "light"
     },
     "output_type": "display_data"
    },
    {
     "data": {
      "image/png": "[encoded data removed]",
      "text/plain": [
       "<Figure size 432x288 with 1 Axes>"
      ]
     },
     "metadata": {
      "needs_background": "light"
     },
     "output_type": "display_data"
    }
   ],
   "source": [
    "import matplotlib.pyplot as plt\n",
    "\n",
    "\n",
    "acc = history.history['acc']\n",
    "val_acc = history.history['val_acc']\n",
    "loss = history.history['loss']\n",
    "val_loss = history.history['val_loss']\n",
    "\n",
    "epochs = range(len(acc))\n",
    "\n",
    "plt.plot(epochs, acc, 'bo', label='Training acc')\n",
    "plt.plot(epochs, val_acc, 'b', label='Validation acc')\n",
    "plt.title('Training and validation accuracy')\n",
    "plt.legend()\n",
    "\n",
    "plt.figure()\n",
    "\n",
    "plt.plot(epochs, loss, 'bo', label='Training loss')\n",
    "plt.plot(epochs, val_loss, 'b', label='Validation loss')\n",
    "plt.title('Training and validation loss')\n",
    "plt.legend()\n",
    "\n",
    "plt.show()"
   ]
  },
  {
   "cell_type": "code",
   "execution_count": 34,
   "metadata": {},
   "outputs": [
    {
     "name": "stdout",
     "output_type": "stream",
     "text": [
      "Found 1000 images belonging to 2 classes.\n"
     ]
    }
   ],
   "source": [
    "test_generator = test_datagen.flow_from_directory(test_dir, target_size=(150, 150), batch_size=20,class_mode='binary')"
   ]
  },
  {
   "cell_type": "code",
   "execution_count": 36,
   "metadata": {},
   "outputs": [
    {
     "name": "stdout",
     "output_type": "stream",
     "text": [
      "Test accuracy is: 0.9379999923706055\n"
     ]
    }
   ],
   "source": [
    "test_loss, test_acc = model.evaluate_generator(test_generator, steps= 50)\n",
    "print(\"Test accuracy is:\", test_acc)"
   ]
  },
  {
   "cell_type": "code",
   "execution_count": null,
   "metadata": {},
   "outputs": [],
   "source": []
  }
 ],
 "metadata": {
  "kernelspec": {
   "display_name": "Python 3",
   "language": "python",
   "name": "python3"
  },
  "language_info": {
   "codemirror_mode": {
    "name": "ipython",
    "version": 3
   },
   "file_extension": ".py",
   "mimetype": "text/x-python",
   "name": "python",
   "nbconvert_exporter": "python",
   "pygments_lexer": "ipython3",
   "version": "3.6.5"
  }
 },
 "nbformat": 4,
 "nbformat_minor": 2
}
